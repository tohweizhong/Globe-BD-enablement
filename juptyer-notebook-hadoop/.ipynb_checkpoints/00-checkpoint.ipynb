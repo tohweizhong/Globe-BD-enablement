{
 "cells": [
  {
   "cell_type": "markdown",
   "metadata": {},
   "source": [
    "# Install and Configuration of Hadoop 2.7.x"
   ]
  },
  {
   "cell_type": "markdown",
   "metadata": {},
   "source": [
    "Install or Activate the Latest Java Development Kit\n",
    "---"
   ]
  },
  {
   "cell_type": "markdown",
   "metadata": {},
   "source": [
    "Must use minimum JRE 1.8 or Java 8.  Use <b>Brew</b> or <b>Scoop</b> via OpenJDK or download from [here](http://www.oracle.com/technetwork/java/javase/downloads/jdk8-downloads-2133151.html)\n",
    "\n",
    "<b>For Windows</b> -\n",
    "- Enable the latest installed version of Java in the Java Control Panel In the Java Control Panel, click on the Java tab. \n",
    "- Click View to display the Java Runtime Environment Settings. \n",
    "- Verify that the latest Java Runtime version is enabled by checking the Enabled box. \n",
    "- Click OK to save settings."
   ]
  },
  {
   "cell_type": "markdown",
   "metadata": {},
   "source": [
    "Error Extracting tar.gz\n",
    "---\n",
    "\n",
    "If extracting <b>.tar.gz</b> on Windows 10 using 7ZIP if you encounter the following error:"
   ]
  },
  {
   "cell_type": "markdown",
   "metadata": {},
   "source": [
    "![caption](files/7zip.png)"
   ]
  },
  {
   "cell_type": "raw",
   "metadata": {},
   "source": [
    "\"Cannot create symbolic link : Access is denied\""
   ]
  },
  {
   "cell_type": "markdown",
   "metadata": {},
   "source": [
    "You need to run 7-Zip File Manager in administrator mode.  Right-click the icon of 7-Zip File Manager, and then click \"Run as administrator\"."
   ]
  },
  {
   "cell_type": "markdown",
   "metadata": {},
   "source": [
    "<b>For Mac OS or Linux - </b>"
   ]
  },
  {
   "cell_type": "markdown",
   "metadata": {},
   "source": [
    "Using <b>Brew</b> or <b>Linuxbrew</b> install [jenv](http://www.jenv.be/) which allows you to choose the Java version you want to use while having multiple versions installed. "
   ]
  },
  {
   "cell_type": "code",
   "execution_count": null,
   "metadata": {
    "collapsed": true
   },
   "outputs": [],
   "source": []
  }
 ],
 "metadata": {
  "kernelspec": {
   "display_name": "Python 3",
   "language": "python",
   "name": "python3"
  },
  "language_info": {
   "codemirror_mode": {
    "name": "ipython",
    "version": 3
   },
   "file_extension": ".py",
   "mimetype": "text/x-python",
   "name": "python",
   "nbconvert_exporter": "python",
   "pygments_lexer": "ipython3",
   "version": "3.5.1"
  }
 },
 "nbformat": 4,
 "nbformat_minor": 0
}
